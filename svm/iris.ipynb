{
 "cells": [
  {
   "cell_type": "code",
   "id": "initial_id",
   "metadata": {
    "collapsed": true,
    "ExecuteTime": {
     "end_time": "2024-04-13T15:54:56.811939Z",
     "start_time": "2024-04-13T15:54:55.646563Z"
    }
   },
   "source": [
    "import numpy as np\n",
    "from sklearn import svm, datasets, preprocessing\n",
    "import joblib\n",
    "import matplotlib.pyplot as plt"
   ],
   "outputs": [],
   "execution_count": 1
  },
  {
   "metadata": {
    "ExecuteTime": {
     "end_time": "2024-04-13T15:54:57.745053Z",
     "start_time": "2024-04-13T15:54:57.723690Z"
    }
   },
   "cell_type": "code",
   "source": [
    "# 加载数据集\n",
    "iris = datasets.load_iris()\n",
    "\n",
    "feature = iris['data']\n",
    "target = iris['target']\n",
    "feature_names = iris['feature_names']\n",
    "target_names = iris['target_names']\n",
    "\n",
    "sample_cnt = feature.shape[0]\n",
    "feature_dim = feature.shape[1]\n",
    "\n",
    "print(feature.shape)\n",
    "print(target.shape)\n",
    "print(target)\n",
    "print(feature_names)\n",
    "print(target_names)\n",
    "print(sample_cnt)\n",
    "print(feature_dim)"
   ],
   "id": "af3f6cbad0461979",
   "outputs": [
    {
     "name": "stdout",
     "output_type": "stream",
     "text": [
      "(150, 4)\n",
      "(150,)\n",
      "[0 0 0 0 0 0 0 0 0 0 0 0 0 0 0 0 0 0 0 0 0 0 0 0 0 0 0 0 0 0 0 0 0 0 0 0 0\n",
      " 0 0 0 0 0 0 0 0 0 0 0 0 0 1 1 1 1 1 1 1 1 1 1 1 1 1 1 1 1 1 1 1 1 1 1 1 1\n",
      " 1 1 1 1 1 1 1 1 1 1 1 1 1 1 1 1 1 1 1 1 1 1 1 1 1 1 2 2 2 2 2 2 2 2 2 2 2\n",
      " 2 2 2 2 2 2 2 2 2 2 2 2 2 2 2 2 2 2 2 2 2 2 2 2 2 2 2 2 2 2 2 2 2 2 2 2 2\n",
      " 2 2]\n",
      "['sepal length (cm)', 'sepal width (cm)', 'petal length (cm)', 'petal width (cm)']\n",
      "['setosa' 'versicolor' 'virginica']\n",
      "150\n",
      "4\n"
     ]
    }
   ],
   "execution_count": 2
  },
  {
   "metadata": {
    "ExecuteTime": {
     "end_time": "2024-04-13T15:54:58.242681Z",
     "start_time": "2024-04-13T15:54:58.222624Z"
    }
   },
   "cell_type": "code",
   "source": [
    "# 打乱数据集\n",
    "shuffling_indices = np.arange(target.shape[0])\n",
    "np.random.shuffle(shuffling_indices)\n",
    "feature = feature[shuffling_indices,:]\n",
    "target = target[shuffling_indices]\n",
    "\n",
    "print(feature.shape)\n",
    "print(target.shape)\n",
    "print(target)"
   ],
   "id": "1bdec04fd577c62e",
   "outputs": [
    {
     "name": "stdout",
     "output_type": "stream",
     "text": [
      "(150, 4)\n",
      "(150,)\n",
      "[1 0 1 2 1 2 2 0 0 2 0 2 0 1 0 1 0 0 1 0 2 1 1 2 0 2 1 1 2 2 0 2 2 1 0 2 1\n",
      " 1 2 0 0 1 0 2 1 0 0 2 2 2 0 0 2 2 1 0 1 1 0 0 1 0 0 0 2 0 1 2 2 2 1 1 2 1\n",
      " 1 0 2 2 2 1 0 2 0 1 0 2 0 1 1 0 0 1 0 0 1 1 2 2 0 1 1 0 2 2 0 1 1 2 2 0 0\n",
      " 2 2 1 1 2 1 1 2 1 0 0 1 2 1 0 1 2 2 2 1 0 1 1 1 0 0 2 2 0 2 0 1 0 2 1 0 2\n",
      " 1 2]\n"
     ]
    }
   ],
   "execution_count": 3
  },
  {
   "metadata": {
    "ExecuteTime": {
     "end_time": "2024-04-13T15:54:58.586809Z",
     "start_time": "2024-04-13T15:54:58.572646Z"
    }
   },
   "cell_type": "code",
   "source": [
    "# 归一化预处理\n",
    "scaler = preprocessing.StandardScaler()\n",
    "scaler.fit(feature)\n",
    "print(scaler.mean_)\n",
    "print(scaler.scale_)\n",
    "\n",
    "feature = scaler.transform(feature)"
   ],
   "id": "3886c03b40880bb0",
   "outputs": [
    {
     "name": "stdout",
     "output_type": "stream",
     "text": [
      "[5.84333333 3.05733333 3.758      1.19933333]\n",
      "[0.82530129 0.43441097 1.75940407 0.75969263]\n"
     ]
    }
   ],
   "execution_count": 4
  },
  {
   "metadata": {
    "ExecuteTime": {
     "end_time": "2024-04-13T15:54:58.929269Z",
     "start_time": "2024-04-13T15:54:58.916730Z"
    }
   },
   "cell_type": "code",
   "source": [
    "# 分出20个样本作为测试集\n",
    "test_cnt = 20\n",
    "\n",
    "trainval_feature = feature[:-test_cnt,:]\n",
    "trainval_target = target[:-test_cnt]\n",
    "test_feature = feature[-test_cnt:,:]\n",
    "test_target = target[-test_cnt:]\n",
    "\n",
    "print(trainval_feature.shape)\n",
    "print(trainval_target.shape)\n",
    "print(test_feature.shape)\n",
    "print(test_target.shape)"
   ],
   "id": "5fb7abcb462b64ca",
   "outputs": [
    {
     "name": "stdout",
     "output_type": "stream",
     "text": [
      "(130, 4)\n",
      "(130,)\n",
      "(20, 4)\n",
      "(20,)\n"
     ]
    }
   ],
   "execution_count": 5
  },
  {
   "metadata": {
    "ExecuteTime": {
     "end_time": "2024-04-13T15:54:59.362834Z",
     "start_time": "2024-04-13T15:54:59.349366Z"
    }
   },
   "cell_type": "code",
   "source": [
    "# 使用k折交叉验证，将数据集分为k份\n",
    "k = 10\n",
    "feature_tv_list = np.reshape(trainval_feature, [k, -1, feature_dim])\n",
    "target_tv_list = np.reshape(trainval_target, [k, -1])\n",
    "\n",
    "print(feature_tv_list.shape)\n",
    "print(target_tv_list.shape)\n",
    "print(target_tv_list)"
   ],
   "id": "fe9f1035e6d72a1f",
   "outputs": [
    {
     "name": "stdout",
     "output_type": "stream",
     "text": [
      "(10, 13, 4)\n",
      "(10, 13)\n",
      "[[1 0 1 2 1 2 2 0 0 2 0 2 0]\n",
      " [1 0 1 0 0 1 0 2 1 1 2 0 2]\n",
      " [1 1 2 2 0 2 2 1 0 2 1 1 2]\n",
      " [0 0 1 0 2 1 0 0 2 2 2 0 0]\n",
      " [2 2 1 0 1 1 0 0 1 0 0 0 2]\n",
      " [0 1 2 2 2 1 1 2 1 1 0 2 2]\n",
      " [2 1 0 2 0 1 0 2 0 1 1 0 0]\n",
      " [1 0 0 1 1 2 2 0 1 1 0 2 2]\n",
      " [0 1 1 2 2 0 0 2 2 1 1 2 1]\n",
      " [1 2 1 0 0 1 2 1 0 1 2 2 2]]\n"
     ]
    }
   ],
   "execution_count": 6
  },
  {
   "metadata": {
    "ExecuteTime": {
     "end_time": "2024-04-13T15:54:59.736658Z",
     "start_time": "2024-04-13T15:54:59.718472Z"
    }
   },
   "cell_type": "code",
   "source": [
    "# 创建一个数组用于存放模型\n",
    "svm_models = []\n",
    "for i in range(k):\n",
    "    # 创建 SVM 模型，选用高斯核\n",
    "    svm_models.append(svm.SVC(gamma='scale', kernel='rbf'))\n",
    "    "
   ],
   "id": "83c2fb1d46566386",
   "outputs": [],
   "execution_count": 7
  },
  {
   "metadata": {
    "ExecuteTime": {
     "end_time": "2024-04-13T15:55:00.204928Z",
     "start_time": "2024-04-13T15:55:00.164696Z"
    }
   },
   "cell_type": "code",
   "source": [
    "val_accuracies = []\n",
    "# 训练验证k次，每次选用不同的验证集\n",
    "for i in range(k):\n",
    "    # 获取除了第 9-i 项以外的所有作为训练集\n",
    "    train_feature = np.delete(feature_tv_list, 9-i, axis=0).reshape([-1, feature_dim])\n",
    "    train_target = np.delete(target_tv_list, 9-i, axis=0).reshape([-1,])\n",
    "    # 获取第 9-i 项作为验证集\n",
    "    val_feature = feature_tv_list[9-i,:,:]\n",
    "    val_target = target_tv_list[9-i,:]\n",
    "    # 训练\n",
    "    svm_models[i].fit(train_feature, train_target)\n",
    "    # 评估\n",
    "    val_pred = svm_models[i].predict(val_feature)\n",
    "    accuracy = np.sum(val_pred == val_target) / val_target.shape[0]\n",
    "    val_accuracies.append(accuracy)\n",
    "    print(f'SVM No.{i} training completed with accuracy {accuracy:.2%} on validating')"
   ],
   "id": "103903d195a3b027",
   "outputs": [
    {
     "name": "stdout",
     "output_type": "stream",
     "text": [
      "SVM No.0 training completed with accuracy 100.00% on validating\n",
      "SVM No.1 training completed with accuracy 76.92% on validating\n",
      "SVM No.2 training completed with accuracy 100.00% on validating\n",
      "SVM No.3 training completed with accuracy 100.00% on validating\n",
      "SVM No.4 training completed with accuracy 100.00% on validating\n",
      "SVM No.5 training completed with accuracy 92.31% on validating\n",
      "SVM No.6 training completed with accuracy 100.00% on validating\n",
      "SVM No.7 training completed with accuracy 100.00% on validating\n",
      "SVM No.8 training completed with accuracy 100.00% on validating\n",
      "SVM No.9 training completed with accuracy 84.62% on validating\n"
     ]
    }
   ],
   "execution_count": 8
  },
  {
   "metadata": {
    "ExecuteTime": {
     "end_time": "2024-04-13T15:55:01.124821Z",
     "start_time": "2024-04-13T15:55:01.103022Z"
    }
   },
   "cell_type": "code",
   "source": [
    "# 测试\n",
    "for i in range(k):\n",
    "    test_pred = svm_models[i].predict(test_feature)\n",
    "    accuracy = np.sum(test_pred == test_target) / test_target.shape[0]\n",
    "    print(f'SVM No.{i} inferred with accuracy {accuracy:.2%} on testing')"
   ],
   "id": "655f3be4928eede0",
   "outputs": [
    {
     "name": "stdout",
     "output_type": "stream",
     "text": [
      "SVM No.0 inferred with accuracy 95.00% on testing\n",
      "SVM No.1 inferred with accuracy 100.00% on testing\n",
      "SVM No.2 inferred with accuracy 95.00% on testing\n",
      "SVM No.3 inferred with accuracy 95.00% on testing\n",
      "SVM No.4 inferred with accuracy 100.00% on testing\n",
      "SVM No.5 inferred with accuracy 100.00% on testing\n",
      "SVM No.6 inferred with accuracy 100.00% on testing\n",
      "SVM No.7 inferred with accuracy 95.00% on testing\n",
      "SVM No.8 inferred with accuracy 95.00% on testing\n",
      "SVM No.9 inferred with accuracy 95.00% on testing\n"
     ]
    }
   ],
   "execution_count": 9
  },
  {
   "metadata": {
    "ExecuteTime": {
     "end_time": "2024-04-13T15:55:02.932173Z",
     "start_time": "2024-04-13T15:55:02.913110Z"
    }
   },
   "cell_type": "code",
   "source": [
    "# 保存模型\n",
    "svm_to_save = np.argmax(val_accuracies)\n",
    "joblib.dump(scaler, './saves/scaler.pkl')\n",
    "joblib.dump(svm_models[svm_to_save], './saves/svm.pkl')"
   ],
   "id": "694399c001ab8d86",
   "outputs": [
    {
     "data": {
      "text/plain": [
       "['./saves/svm.pkl']"
      ]
     },
     "execution_count": 10,
     "metadata": {},
     "output_type": "execute_result"
    }
   ],
   "execution_count": 10
  },
  {
   "metadata": {},
   "cell_type": "code",
   "outputs": [],
   "execution_count": null,
   "source": "",
   "id": "708460d5a3cfdf2e"
  }
 ],
 "metadata": {
  "kernelspec": {
   "display_name": "Python 3",
   "language": "python",
   "name": "python3"
  },
  "language_info": {
   "codemirror_mode": {
    "name": "ipython",
    "version": 2
   },
   "file_extension": ".py",
   "mimetype": "text/x-python",
   "name": "python",
   "nbconvert_exporter": "python",
   "pygments_lexer": "ipython2",
   "version": "2.7.6"
  }
 },
 "nbformat": 4,
 "nbformat_minor": 5
}
