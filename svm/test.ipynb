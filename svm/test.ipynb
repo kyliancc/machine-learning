{
 "cells": [
  {
   "cell_type": "code",
   "id": "initial_id",
   "metadata": {
    "collapsed": true,
    "ExecuteTime": {
     "end_time": "2024-04-10T09:29:29.174453Z",
     "start_time": "2024-04-10T09:29:27.720376Z"
    }
   },
   "source": [
    "from sklearn import svm, datasets\n",
    "import numpy as np\n",
    "import matplotlib.pyplot as plt"
   ],
   "outputs": [],
   "execution_count": 1
  },
  {
   "metadata": {
    "ExecuteTime": {
     "end_time": "2024-04-10T09:48:32.777442Z",
     "start_time": "2024-04-10T09:48:32.763319Z"
    }
   },
   "cell_type": "code",
   "source": [
    "# 加载数据集\n",
    "iris = datasets.load_iris()\n",
    "\n",
    "feature = iris['data']\n",
    "target = iris['target']\n",
    "feature_names = iris['feature_names']\n",
    "target_names = iris['target_names']\n",
    "\n",
    "print(feature.shape)\n",
    "print(target.shape)\n",
    "print(feature_names)\n",
    "print(target_names)"
   ],
   "id": "d407fe24ac75c407",
   "outputs": [
    {
     "name": "stdout",
     "output_type": "stream",
     "text": [
      "(150, 4)\n",
      "(150,)\n",
      "['sepal length (cm)', 'sepal width (cm)', 'petal length (cm)', 'petal width (cm)']\n",
      "['setosa' 'versicolor' 'virginica']\n"
     ]
    }
   ],
   "execution_count": 16
  },
  {
   "metadata": {
    "ExecuteTime": {
     "end_time": "2024-04-10T09:48:33.618471Z",
     "start_time": "2024-04-10T09:48:33.603265Z"
    }
   },
   "cell_type": "code",
   "source": [
    "# 为了方便，降维打击\n",
    "feature = feature[:,1:3]\n",
    "feature_names = feature_names[1:3]\n",
    "\n",
    "print(feature.shape)\n",
    "print(feature_names)"
   ],
   "id": "a50a3e8e94deddad",
   "outputs": [
    {
     "name": "stdout",
     "output_type": "stream",
     "text": [
      "(150, 2)\n",
      "['sepal width (cm)', 'petal length (cm)']\n"
     ]
    }
   ],
   "execution_count": 17
  },
  {
   "metadata": {
    "ExecuteTime": {
     "end_time": "2024-04-10T09:48:36.532350Z",
     "start_time": "2024-04-10T09:48:36.513762Z"
    }
   },
   "cell_type": "code",
   "source": [
    "# 获取每个类别的索引\n",
    "indices_set = np.where(target == 0)[0]\n",
    "indices_ver = np.where(target == 1)[0]\n",
    "indices_vir = np.where(target == 2)[0]\n",
    "\n",
    "print(indices_set.shape)\n",
    "print(indices_ver.shape)\n",
    "print(indices_vir.shape)"
   ],
   "id": "6840e2f93de30211",
   "outputs": [
    {
     "name": "stdout",
     "output_type": "stream",
     "text": [
      "(50,)\n",
      "(50,)\n",
      "(50,)\n"
     ]
    }
   ],
   "execution_count": 18
  },
  {
   "metadata": {
    "ExecuteTime": {
     "end_time": "2024-04-10T09:48:38.174537Z",
     "start_time": "2024-04-10T09:48:38.073315Z"
    }
   },
   "cell_type": "code",
   "source": [
    "# 可视化数据\n",
    "plt.plot(feature[indices_set][:,0], feature[indices_set][:,1], 'ro')\n",
    "plt.plot(feature[indices_ver][:,0], feature[indices_ver][:,1], 'go')\n",
    "plt.plot(feature[indices_vir][:,0], feature[indices_vir][:,1], 'bo')\n",
    "plt.xlabel = feature_names[0]\n",
    "plt.ylabel = feature_names[1]\n",
    "plt.show()"
   ],
   "id": "16a8490e477a8c94",
   "outputs": [
    {
     "data": {
      "text/plain": [
       "<Figure size 640x480 with 1 Axes>"
      ],
      "image/png": "[encoded data removed]"
     },
     "metadata": {},
     "output_type": "display_data"
    }
   ],
   "execution_count": 19
  },
  {
   "metadata": {
    "ExecuteTime": {
     "end_time": "2024-04-10T09:50:06.587066Z",
     "start_time": "2024-04-10T09:50:06.574510Z"
    }
   },
   "cell_type": "code",
   "source": [
    "# 训练模型\n",
    "svm_model = svm.LinearSVC(dual='auto')\n",
    "svm_model.fit(feature, target)\n",
    "\n",
    "svm_model.get_params()"
   ],
   "id": "d5b515824d2c6818",
   "outputs": [
    {
     "data": {
      "text/plain": [
       "{'C': 1.0,\n",
       " 'class_weight': None,\n",
       " 'dual': 'auto',\n",
       " 'fit_intercept': True,\n",
       " 'intercept_scaling': 1,\n",
       " 'loss': 'squared_hinge',\n",
       " 'max_iter': 1000,\n",
       " 'multi_class': 'ovr',\n",
       " 'penalty': 'l2',\n",
       " 'random_state': None,\n",
       " 'tol': 0.0001,\n",
       " 'verbose': 0}"
      ]
     },
     "execution_count": 20,
     "metadata": {},
     "output_type": "execute_result"
    }
   ],
   "execution_count": 20
  },
  {
   "metadata": {
    "ExecuteTime": {
     "end_time": "2024-04-10T09:53:28.164676Z",
     "start_time": "2024-04-10T09:53:28.149586Z"
    }
   },
   "cell_type": "code",
   "source": [
    "# 获取模型参数\n",
    "coef = svm_model.coef_\n",
    "intercept = svm_model.intercept_\n",
    "\n",
    "print(coef.shape)\n",
    "print(coef)\n",
    "print(intercept.shape)\n",
    "print(intercept)"
   ],
   "id": "7e76cdd2d6422bfe",
   "outputs": [
    {
     "name": "stdout",
     "output_type": "stream",
     "text": [
      "(3, 2)\n",
      "[[ 0.6951567  -0.88847025]\n",
      " [-0.91668564  0.03426503]\n",
      " [-1.19686801  1.41382872]]\n",
      "(3,)\n",
      "[ 0.24521522  2.31409205 -3.41750075]\n"
     ]
    }
   ],
   "execution_count": 21
  },
  {
   "metadata": {
    "ExecuteTime": {
     "end_time": "2024-04-10T10:22:10.992367Z",
     "start_time": "2024-04-10T10:22:10.848043Z"
    }
   },
   "cell_type": "code",
   "source": [
    "# 可视化划分超平面\n",
    "hp_x = np.linspace(2.0, 4.5, 50)\n",
    "\n",
    "hp_y0 = (-intercept[0] - coef[0,0] * hp_x) / coef[0,1]\n",
    "hp_y1 = (-intercept[1] - coef[1,0] * hp_x) / coef[1,1]\n",
    "hp_y2 = (-intercept[2] - coef[2,0] * hp_x) / coef[2,1]\n",
    "\n",
    "plt.plot(feature[indices_set][:,0], feature[indices_set][:,1], 'ro')\n",
    "plt.plot(hp_x, hp_y0, 'r-')\n",
    "plt.plot(feature[indices_ver][:,0], feature[indices_ver][:,1], 'go')\n",
    "plt.plot(hp_x, hp_y1, 'g-')\n",
    "plt.plot(feature[indices_vir][:,0], feature[indices_vir][:,1], 'bo')\n",
    "plt.plot(hp_x, hp_y2, 'b-')\n",
    "plt.xlabel = feature_names[0]\n",
    "plt.ylabel = feature_names[1]\n",
    "plt.xlim(1.8, 4.7)\n",
    "plt.ylim(0.8, 8.2)\n",
    "plt.show()"
   ],
   "id": "3d9a62eb5ba875d8",
   "outputs": [
    {
     "data": {
      "text/plain": [
       "<Figure size 640x480 with 1 Axes>"
      ],
      "image/png": "[encoded data removed]"
     },
     "metadata": {},
     "output_type": "display_data"
    }
   ],
   "execution_count": 27
  }
 ],
 "metadata": {
  "kernelspec": {
   "display_name": "Python 3",
   "language": "python",
   "name": "python3"
  },
  "language_info": {
   "codemirror_mode": {
    "name": "ipython",
    "version": 2
   },
   "file_extension": ".py",
   "mimetype": "text/x-python",
   "name": "python",
   "nbconvert_exporter": "python",
   "pygments_lexer": "ipython2",
   "version": "2.7.6"
  }
 },
 "nbformat": 4,
 "nbformat_minor": 5
}
